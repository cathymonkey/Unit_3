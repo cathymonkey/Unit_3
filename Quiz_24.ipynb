{
  "nbformat": 4,
  "nbformat_minor": 0,
  "metadata": {
    "colab": {
      "name": "Quiz_24.ipynb",
      "provenance": [],
      "authorship_tag": "ABX9TyNrDJg7UisW7bDkBY1SVrI4",
      "include_colab_link": true
    },
    "kernelspec": {
      "name": "python3",
      "display_name": "Python 3"
    }
  },
  "cells": [
    {
      "cell_type": "markdown",
      "metadata": {
        "id": "view-in-github",
        "colab_type": "text"
      },
      "source": [
        "<a href=\"https://colab.research.google.com/github/cathymonkey/Unit_3/blob/main/Quiz_24.ipynb\" target=\"_parent\"><img src=\"https://colab.research.google.com/assets/colab-badge.svg\" alt=\"Open In Colab\"/></a>"
      ]
    },
    {
      "cell_type": "code",
      "metadata": {
        "colab": {
          "base_uri": "https://localhost:8080/"
        },
        "id": "1DBNoEDbThcP",
        "outputId": "592fd51a-cc71-434f-f5a3-e81a99e60d94"
      },
      "source": [
        "# create a class solution to solve the question\n",
        "class solution:\n",
        "# initialize \n",
        "    def __init__(self,a,b,c,d):\n",
        "        self.a: int = a\n",
        "        self.b: int = b\n",
        "        self.c: int = c\n",
        "        self.d: int = d\n",
        "\n",
        "    def foil(self):\n",
        "        a = self.a\n",
        "        b = self.b\n",
        "        c = self.c\n",
        "        d = self.d\n",
        "        # set the prefix_sign to show the \"+\" indicate the addition in the equation\n",
        "        prefix_sign = \"+\" if b+d >0 or b*d > 0 else \"\"\n",
        "        # the first term of the expanded binomial\n",
        "        first = f\"{a*b}x^2\"\n",
        "        # the second term of the expanded binomial\n",
        "        second = f\"{prefix_sign}{b+d}x\"\n",
        "        # return nothing if b+d is 0\n",
        "        if b+d == 0:\n",
        "          second = None\n",
        "        # the third term of the expanded binomial\n",
        "        third = f\"{prefix_sign}{b*d}\"\n",
        "        # return nothing if b*d is 0\n",
        "        if b*d == 0:\n",
        "          third = None \n",
        "        # return the final expaned binomial      \n",
        "        return first+second+third\n",
        "print(solution(1,3,1,2).foil())\n",
        "print(solution(1,13,1,-27).foil())\n"
      ],
      "execution_count": 21,
      "outputs": [
        {
          "output_type": "stream",
          "text": [
            "3x^2+5x+6\n",
            "13x^2-14x-351\n"
          ],
          "name": "stdout"
        }
      ]
    }
  ]
}