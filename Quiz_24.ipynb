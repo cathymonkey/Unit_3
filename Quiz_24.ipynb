{
  "nbformat": 4,
  "nbformat_minor": 0,
  "metadata": {
    "colab": {
      "name": "Quiz_24.ipynb",
      "provenance": [],
      "authorship_tag": "ABX9TyPRe+k6Oho/EdBknRMoPFjp",
      "include_colab_link": true
    },
    "kernelspec": {
      "name": "python3",
      "display_name": "Python 3"
    }
  },
  "cells": [
    {
      "cell_type": "markdown",
      "metadata": {
        "id": "view-in-github",
        "colab_type": "text"
      },
      "source": [
        "<a href=\"https://colab.research.google.com/github/cathymonkey/Unit_3/blob/main/Quiz_24.ipynb\" target=\"_parent\"><img src=\"https://colab.research.google.com/assets/colab-badge.svg\" alt=\"Open In Colab\"/></a>"
      ]
    },
    {
      "cell_type": "code",
      "metadata": {
        "colab": {
          "base_uri": "https://localhost:8080/"
        },
        "id": "1DBNoEDbThcP",
        "outputId": "20338f5b-1a2e-4bf6-ced4-b4854f20e6f1"
      },
      "source": [
        "# create a class solution to solve the question\n",
        "class solution:\n",
        "# initialize \n",
        "    def __init__(self,a,b,c,d):\n",
        "        self.a: int = a\n",
        "        self.b: int = b\n",
        "        self.c: int = c\n",
        "        self.d: int = d\n",
        "\n",
        "    def foil(self):\n",
        "        a = self.a\n",
        "        b = self.b\n",
        "        c = self.c\n",
        "        d = self.d\n",
        "        # set the prefix_sign to show the \"+\" indicate the addition in the equation\n",
        "        prefix_sign = \"+\" if b+d >0 else \"\"  # second term\n",
        "        prefix_sign2 = \"+\" if b*d >0 else \"\" # third term\n",
        "    \n",
        "\n",
        "        # set the coefficients of different terms\n",
        "        first_coe = \"\" if a*c == 1 else str(a*c) \n",
        "        second_coe = \"\"if b+d == 1 else str(b+d)\n",
        "        third_coe = \"\" if b*d == 1 else str(b*d)\n",
        "\n",
        "        # the first term of the expanded binomial\n",
        "        first = f\"{first_coe}x^2\"\n",
        "        # the second term of the expanded binomial\n",
        "        second = f\"{prefix_sign}{second_coe}x\"\n",
        "        # return nothing if b+d is 0\n",
        "        if b+d == 0:\n",
        "          second = None\n",
        "        # the third term of the expanded binomial\n",
        "        third = f\"{prefix_sign2}{third_coe}\"\n",
        "        # return nothing if b*d is 0\n",
        "        if b*d == 0:\n",
        "          third = None \n",
        "        # return the final expaned binomial      \n",
        "        return first+second+third\n",
        "print(solution(1,3,1,2).foil())\n",
        "print(solution(1,13,1,-27).foil())\n",
        "print(solution(1,2,1,-1).foil())\n"
      ],
      "execution_count": 39,
      "outputs": [
        {
          "output_type": "stream",
          "text": [
            "x^2+5x+6\n",
            "x^2-14x-351\n",
            "x^2+x-2\n"
          ],
          "name": "stdout"
        }
      ]
    }
  ]
}