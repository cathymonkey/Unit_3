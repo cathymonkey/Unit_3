{
  "nbformat": 4,
  "nbformat_minor": 0,
  "metadata": {
    "colab": {
      "name": "Quiz_27",
      "provenance": [],
      "authorship_tag": "ABX9TyOk1Lq3UrZc4Z3EZqJaaI9q",
      "include_colab_link": true
    },
    "kernelspec": {
      "name": "python3",
      "display_name": "Python 3"
    },
    "language_info": {
      "name": "python"
    }
  },
  "cells": [
    {
      "cell_type": "markdown",
      "metadata": {
        "id": "view-in-github",
        "colab_type": "text"
      },
      "source": [
        "<a href=\"https://colab.research.google.com/github/cathymonkey/Unit_3/blob/main/Quiz_27.ipynb\" target=\"_parent\"><img src=\"https://colab.research.google.com/assets/colab-badge.svg\" alt=\"Open In Colab\"/></a>"
      ]
    },
    {
      "cell_type": "markdown",
      "metadata": {
        "id": "NbffgK1IfywY"
      },
      "source": [
        "An abundant number is a number that is smaller than the sum of its proper divisors (itself excluded).\n",
        "Calculate the number of abundant numbers between an integer a and an integer b (a and b included).\n",
        "\n",
        "Example\n",
        "\n",
        "abundant(a=1, b=40) → 7\n",
        "\n",
        "abundant(a=10, b=86) → 18\n",
        "\n",
        "abundant(a=13, b=78) → 15\n"
      ]
    },
    {
      "cell_type": "code",
      "metadata": {
        "colab": {
          "base_uri": "https://localhost:8080/"
        },
        "id": "XlD8ILLxfpFz",
        "outputId": "416830b1-b771-483e-d3be-622ef1a19b17"
      },
      "source": [
        "# Create a class \"solution\" to solve the problem\n",
        "class solution():\n",
        "    # initialize the inputs as a,b (both are integers)\n",
        "    def __init__(self,a,b):\n",
        "        self.a: int = a\n",
        "        self.b: int = b\n",
        "    # create a function \"abundant\" to get the abundant numbers within the range of a, b\n",
        "    def abundant(self):\n",
        "        a = self.a\n",
        "        b = self.b\n",
        "        # create a variable to record the total number of the abundant numbers\n",
        "        sum_a = 0\n",
        "        # create a variable to record the sum of the proper divisors\n",
        "        sum_d = 0\n",
        "# loop numbers from a to b+1(b+1 can allow the program to go through the condition when checking for the last number)\n",
        "        for num in range(a,b+2,1):\n",
        "            # check if the sum of the proper divisors is greater than the number itself\n",
        "            if sum_d > num:\n",
        "                sum_a += 1\n",
        "            # when it comes to a new number, the initial sum of proper divisors has to be set 0\n",
        "            sum_d = 0\n",
        "\n",
        "            # loop i from 1 to (number+1) as the biggest divisor will be the number itself\n",
        "            for i in range(1,num+1,1):\n",
        "                # find the proper divisor\n",
        "                if num % i == 0 and i != num:\n",
        "                    # add the value of the found divisor to sum_d\n",
        "                    sum_d += i\n",
        "\n",
        "\n",
        "# print the number of the abundant numbers within the range\n",
        "        print(sum_a)\n",
        "\n",
        "\n",
        "solution(a=1,b=40).abundant()\n",
        "solution(a=10,b=86).abundant()\n",
        "solution(a=13,b=78).abundant()\n",
        "\n",
        "\n"
      ],
      "execution_count": 1,
      "outputs": [
        {
          "output_type": "stream",
          "text": [
            "7\n",
            "18\n",
            "15\n"
          ],
          "name": "stdout"
        }
      ]
    }
  ]
}