{
  "nbformat": 4,
  "nbformat_minor": 0,
  "metadata": {
    "colab": {
      "name": "Quiz_26.ipynb",
      "provenance": [],
      "authorship_tag": "ABX9TyObmmJ2LqeBAy1Me6bkwtan",
      "include_colab_link": true
    },
    "kernelspec": {
      "name": "python3",
      "display_name": "Python 3"
    },
    "language_info": {
      "name": "python"
    }
  },
  "cells": [
    {
      "cell_type": "markdown",
      "metadata": {
        "id": "view-in-github",
        "colab_type": "text"
      },
      "source": [
        "<a href=\"https://colab.research.google.com/github/cathymonkey/Unit_3/blob/main/Quiz_26.ipynb\" target=\"_parent\"><img src=\"https://colab.research.google.com/assets/colab-badge.svg\" alt=\"Open In Colab\"/></a>"
      ]
    },
    {
      "cell_type": "markdown",
      "metadata": {
        "id": "KZklMtvAVbVf"
      },
      "source": [
        "### 026\n",
        "Create a function that returns the sum of the numbers in the array, except ignore sections of numbers starting with a 6 and extending to the next 7 (every 6 will be followed by at least one 7). \n",
        "\n",
        "Return 0 for no numbers.\n",
        "\n",
        "Example：\n",
        "\n",
        "sum67([1, 2, 2]) → 5\n",
        "\n",
        "sum67([1, 2, 2, 6, 99, 99, 7]) → 5\n",
        "\n",
        "sum67([1, 1, 6, 7, 2]) → 4"
      ]
    },
    {
      "cell_type": "code",
      "metadata": {
        "colab": {
          "base_uri": "https://localhost:8080/"
        },
        "id": "LZI-O5FsVOk-",
        "outputId": "12265cb1-1351-4791-a626-33d2ceafe4bb"
      },
      "source": [
        "#create a class solution to solve the problem\n",
        "class solution():\n",
        "    # initialize the input  `input_list` as a list\n",
        "    def __init__(self,input_list):\n",
        "        self.input_list: list = input_list\n",
        "    # create a function \"sum67\" to return the sum of the numbers in the array except the numbers resting between 6 and 7\n",
        "    def sum67(self):\n",
        "        input_list = self.input_list\n",
        "        # create variables: sum, the index of number 6 and the index of number 7\n",
        "        total = 0\n",
        "        six = 0\n",
        "        seven = 0\n",
        "        # loop in the array\n",
        "        for i in range(len(input_list)):\n",
        "            # calculate the sum of the numbers in the array\n",
        "            total += input_list[i]\n",
        "            # get the index of number six in the array\n",
        "            if input_list[i] == 6:\n",
        "                six = i\n",
        "            # get the index of number seven in the array but because of slicing in python doesn't count the\n",
        "            # last number in the slicing, we need to add 1 for later slicing.\n",
        "            elif input_list[i] == 7:\n",
        "                seven = i+1\n",
        "        # if find no number in the array except 6 and 7, return 0\n",
        "        if len(input_list) == 2 and six == seven-2:\n",
        "            print(0)\n",
        "        # then get the sum of the selected array by subtracting the sum of the numbers between 6 and 7\n",
        "        else:\n",
        "            sum_67 = sum(input_list[six:seven])\n",
        "            total -= sum_67\n",
        "            print(total)\n",
        "\n",
        "solution([1,2,2]).sum67()\n",
        "solution([1,2,2,6,99,99,7]).sum67()\n",
        "solution([1,1,6,7,2]).sum67()"
      ],
      "execution_count": 1,
      "outputs": [
        {
          "output_type": "stream",
          "text": [
            "5\n",
            "5\n",
            "4\n"
          ],
          "name": "stdout"
        }
      ]
    }
  ]
}