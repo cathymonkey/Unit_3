{
  "nbformat": 4,
  "nbformat_minor": 0,
  "metadata": {
    "colab": {
      "name": "Quiz_21.ipynb",
      "provenance": [],
      "authorship_tag": "ABX9TyNuNnCzJgAhDFRS5GPnsTfo",
      "include_colab_link": true
    },
    "kernelspec": {
      "name": "python3",
      "display_name": "Python 3"
    }
  },
  "cells": [
    {
      "cell_type": "markdown",
      "metadata": {
        "id": "view-in-github",
        "colab_type": "text"
      },
      "source": [
        "<a href=\"https://colab.research.google.com/github/cathymonkey/Unit_3/blob/main/Quiz_21.ipynb\" target=\"_parent\"><img src=\"https://colab.research.google.com/assets/colab-badge.svg\" alt=\"Open In Colab\"/></a>"
      ]
    },
    {
      "cell_type": "markdown",
      "metadata": {
        "id": "INJi_EKzJr_c"
      },
      "source": [
        "### **Quiz 21**\n",
        "Create a function that outputs a bracket emoji with both arms. The input given its face and its left arm. The right arm is a mirror image of the left arm:\n",
        "\n",
        "| Input 1   | Input 2 | Output            |\n",
        "|-----------|---------|-------------------|\n",
        "| (~n~)     | \\|-     | \\|- (~n~) -|/       |\n",
        "| ('\\|-\\|') | o-      | o-('\\|-\\|')-o     |\n",
        "| [?????]   | <...\\   | <...\\ [?????] /...> |"
      ]
    },
    {
      "cell_type": "code",
      "metadata": {
        "colab": {
          "base_uri": "https://localhost:8080/"
        },
        "id": "Vuvcuy0u_Ctu",
        "outputId": "f02b8b8f-82bd-4a17-da97-075a55ef9678"
      },
      "source": [
        "# Create a class solution to solve the question\n",
        "class solution():\n",
        "# initialize the two inputs for the program according to the question\n",
        "  def __init__(self,input1,input2):\n",
        "    self.input1 : str = input1\n",
        "    self.input2 : str = input2\n",
        "#create a function mirror to flip the characters\n",
        "  def mirror(self):\n",
        "    input1 = self.input1\n",
        "    input2 = self.input2\n",
        "    # make the input2 string into a list and copy it as left so that each character in the string could be indepently changed \n",
        "    input2 = list(input2)\n",
        "    left = input2\n",
        "    # loop in the string left \n",
        "    for i in range(len(left)):\n",
        "      # if the ascii value of the character represents \"[\",\"<\",\"{\", it should be changed to the mirrored character which ascii value is 2 more. \n",
        "      if ord(left[i]) == 91 == 60 == 123:\n",
        "        input2[i] = chr(ord(left[i])+2)\n",
        "      # if the ascii value of the character represents \"]\",\">\",\"}\", it needs to convert to the mirrored character which ascii value is 2 less.\n",
        "      elif ord(left[i])== 93 == 62 == 125:\n",
        "        input2[i] = chr(ord(left[i])-2)\n",
        "      # if the ascii value of the character represents \"(\" or \")\", convert the ascii value to each other(40-41 or 41-40)\n",
        "      elif ord(left[i]) == 40:\n",
        "        input2[i] = chr(41)\n",
        "      elif ord(left[i]) == 41:\n",
        "        input2[i] = chr(40)\n",
        "      # if the ascii value of the character represents \"/\" or \"\\\", convert the ascii value to each other(47-92,92-47)\n",
        "      elif ord(left[i]) == 47:\n",
        "        input2[i] = chr(92)\n",
        "      elif ord(left[i]) == 92:\n",
        "        input2[i] = chr(47)\n",
        "    # join the list together as a left-sided string \n",
        "    left = \"\".join(left)  \n",
        "    # reverse the list and join the list together as a right_sided string \n",
        "    input2 = \"\".join(input2[::-1])\n",
        "    # combine the three parts together \n",
        "    return left+input1+input2\n",
        "  \n",
        "\n",
        "print(solution(\"~(n)~\",\"|-\").mirror())\n",
        "print(solution(\"('|-|')\",\"o-\").mirror())\n",
        "print(solution(\"[?????]\",\"<...\\ \").mirror())\n"
      ],
      "execution_count": 83,
      "outputs": [
        {
          "output_type": "stream",
          "text": [
            "|-~(n)~-|\n",
            "o-('|-|')-o\n",
            "<.../ [?????] /...<\n"
          ],
          "name": "stdout"
        }
      ]
    }
  ]
}