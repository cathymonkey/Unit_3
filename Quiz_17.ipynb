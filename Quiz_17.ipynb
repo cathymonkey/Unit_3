{
  "nbformat": 4,
  "nbformat_minor": 0,
  "metadata": {
    "colab": {
      "name": "Quiz_17.ipynb",
      "provenance": [],
      "collapsed_sections": [],
      "authorship_tag": "ABX9TyPnU1+4/8tqRfjVJyj0obAf",
      "include_colab_link": true
    },
    "kernelspec": {
      "name": "python3",
      "display_name": "Python 3"
    }
  },
  "cells": [
    {
      "cell_type": "markdown",
      "metadata": {
        "id": "view-in-github",
        "colab_type": "text"
      },
      "source": [
        "<a href=\"https://colab.research.google.com/github/cathymonkey/Unit_3/blob/main/Quiz_17.ipynb\" target=\"_parent\"><img src=\"https://colab.research.google.com/assets/colab-badge.svg\" alt=\"Open In Colab\"/></a>"
      ]
    },
    {
      "cell_type": "markdown",
      "metadata": {
        "id": "5ECntIvviTby"
      },
      "source": [
        "## **Quiz 17**\n",
        "Given three ints, a b c, one of them is small, one is medium and one is large. Return true if the three values are evenly spaced, so the difference between small and medium is the same as the difference between medium and large. \n",
        "\n"
      ]
    },
    {
      "cell_type": "code",
      "metadata": {
        "colab": {
          "base_uri": "https://localhost:8080/"
        },
        "id": "P9iY9mQdrGJu",
        "outputId": "8459aeda-8485-4927-81c2-87d9fd6aa129"
      },
      "source": [
        "class Solution:\n",
        "    def __init__(self,a,b,c):\n",
        "        self.a: int = self.a\n",
        "        self.b: int = self.b\n",
        "        self.c: int = self.c\n",
        "\n",
        "    def evenlySpaced(a:int,b:int,c:int):\n",
        "        low = min(a,b,c)\n",
        "        high= max(a,b,c)\n",
        "        if a != b and b!= c and c!= a:\n",
        "            if a+b+c == 0.5 * (low+high) * 3:\n",
        "                return True\n",
        "            else:\n",
        "                return False\n",
        "        else:\n",
        "            return False\n",
        "\n",
        "print(Solution.evenlySpaced(2,4,6))\n",
        "print(Solution.evenlySpaced(4,6,2))\n",
        "print(Solution.evenlySpaced(4,6,3))\n",
        "print(Solution.evenlySpaced(2,4,4))\n",
        "print(Solution.evenlySpaced(1,3,6))\n"
      ],
      "execution_count": 37,
      "outputs": [
        {
          "output_type": "stream",
          "text": [
            "True\n",
            "True\n",
            "False\n",
            "False\n",
            "False\n"
          ],
          "name": "stdout"
        }
      ]
    }
  ]
}