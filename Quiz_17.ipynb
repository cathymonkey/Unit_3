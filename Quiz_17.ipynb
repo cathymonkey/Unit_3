{
  "nbformat": 4,
  "nbformat_minor": 0,
  "metadata": {
    "colab": {
      "name": "Quiz_17.ipynb",
      "provenance": [],
      "collapsed_sections": [],
      "authorship_tag": "ABX9TyPMaLjp9w9WblH/58wpf2qJ",
      "include_colab_link": true
    },
    "kernelspec": {
      "name": "python3",
      "display_name": "Python 3"
    }
  },
  "cells": [
    {
      "cell_type": "markdown",
      "metadata": {
        "id": "view-in-github",
        "colab_type": "text"
      },
      "source": [
        "<a href=\"https://colab.research.google.com/github/cathymonkey/Unit_3/blob/main/Quiz_17.ipynb\" target=\"_parent\"><img src=\"https://colab.research.google.com/assets/colab-badge.svg\" alt=\"Open In Colab\"/></a>"
      ]
    },
    {
      "cell_type": "markdown",
      "metadata": {
        "id": "5ECntIvviTby"
      },
      "source": [
        "## **Quiz 17**\n",
        "Given three ints, a b c, one of them is small, one is medium and one is large. Return true if the three values are evenly spaced, so the difference between small and medium is the same as the difference between medium and large. \n",
        "\n"
      ]
    },
    {
      "cell_type": "code",
      "metadata": {
        "colab": {
          "base_uri": "https://localhost:8080/"
        },
        "id": "P9iY9mQdrGJu",
        "outputId": "7324a8ae-d69c-4595-d8e8-8c80fc4b7d42"
      },
      "source": [
        "# Create a class Solution to solve the question \n",
        "class Solution:\n",
        "    def __init__(self,a,b,c):\n",
        "# Initialize three ints as attributes for the object in class Solution\n",
        "        self.a: int = a\n",
        "        self.b: int = b\n",
        "        self.c: int = c\n",
        "\n",
        "# Create a function \"evenlySpaced\" to check if the three attributes of the class are evely spaced or not.\n",
        "    def evenlySpaced(self):\n",
        "      a, b, c = self.a, self.b, self.c\n",
        "      low = min(a,b,c)   # find the smallest value among a,b,c\n",
        "      high= max(a,b,c)   # find the biggest value among a,b,c\n",
        "\n",
        "      if a != b and b!= c and c!= a:  # save time to directly return False when meeting some exceptions\n",
        "\n",
        "        if a+b+c == 0.5 * (low+high) * 3: # the condition when three ints are evenly spaced\n",
        "          return True\n",
        "        else:\n",
        "          return False\n",
        "      else:\n",
        "        return False\n",
        "\n",
        "print(Solution(2,4,6).evenlySpaced())\n",
        "print(Solution(4,6,2).evenlySpaced())\n",
        "print(Solution(4,6,3).evenlySpaced())\n",
        "print(Solution(2,4,4).evenlySpaced())\n",
        "print(Solution(1,3,6).evenlySpaced())\n"
      ],
      "execution_count": null,
      "outputs": [
        {
          "output_type": "stream",
          "text": [
            "True\n",
            "True\n",
            "False\n",
            "False\n",
            "False\n"
          ],
          "name": "stdout"
        }
      ]
    }
  ]
}