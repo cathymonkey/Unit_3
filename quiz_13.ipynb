{
  "nbformat": 4,
  "nbformat_minor": 0,
  "metadata": {
    "colab": {
      "name": "quiz_13.ipynb",
      "provenance": [],
      "authorship_tag": "ABX9TyMHyjLtNAQ5AW4PXH3VOoN1",
      "include_colab_link": true
    },
    "kernelspec": {
      "name": "python3",
      "display_name": "Python 3"
    }
  },
  "cells": [
    {
      "cell_type": "markdown",
      "metadata": {
        "id": "view-in-github",
        "colab_type": "text"
      },
      "source": [
        "<a href=\"https://colab.research.google.com/github/cathymonkey/Unit_3/blob/main/quiz_13.ipynb\" target=\"_parent\"><img src=\"https://colab.research.google.com/assets/colab-badge.svg\" alt=\"Open In Colab\"/></a>"
      ]
    },
    {
      "cell_type": "markdown",
      "metadata": {
        "id": "QPmPZQAJFTwQ"
      },
      "source": [
        "###013###\n",
        "Given an array of food items and price, calculate the total price based on the table of tax categories below.\n",
        "\n",
        "| Item        | Tax rate |\n",
        "|-------------|----------|\n",
        "| Food        | 10%      |\n",
        "| Electronics | 15%      |\n",
        "| Liqueur     | 20%      |\n",
        "\n"
      ]
    },
    {
      "cell_type": "code",
      "metadata": {
        "colab": {
          "base_uri": "https://localhost:8080/"
        },
        "id": "GllL4OIxFeyl",
        "outputId": "437fef43-acb0-4a96-bee1-fe93e6de820d"
      },
      "source": [
        "food = [\"bread\",\"egg\"]\n",
        "electronics = [\"ipad\",\"Kindle\"]\n",
        "liqueur = [\"beer\"]\n",
        "\n",
        "def total(item,price):\n",
        "    sum = 0\n",
        "    for i in range(len(item)):\n",
        "        if item[i] in food:\n",
        "            sum += price[i]* 1.1\n",
        "\n",
        "        elif item[i] in electronics:\n",
        "            sum += price[i]*1.15\n",
        "        elif item[i] in liqueur:\n",
        "            sum += price[i]*1.2\n",
        "        else:\n",
        "            cate = input(f\"{item[i]} is not in the database. What category of it is in, food, electronics,liqueur?\")\n",
        "\n",
        "            if cate == \"food\":\n",
        "                food.append(item[i])\n",
        "                sum += price[i]* 1.1\n",
        "            elif cate == \"electronics\":\n",
        "                sum += price[i]*1.15\n",
        "            elif cate == \"liqueur\":\n",
        "                liqueur.append(item[i])\n",
        "                sum += price[i]*1.2\n",
        "            \n",
        "    return sum\n",
        "\n",
        "print(total([\"bread\",\"beer\",\"ipad\"],[300,800,30000]))\n",
        "print(total([\"apple\",\"wine\",\"Mac\"],[300,800,150000]))\n",
        "print(total([\"banana\",\"mojito\",\"iphone-12\"],[100,1000,80000]))\n",
        "print(total([\"banana\",\"mojito\",\"iphone-11\"],[100,1000,70000])) "
      ],
      "execution_count": 6,
      "outputs": [
        {
          "output_type": "stream",
          "text": [
            "35790.0\n",
            "apple is not in the database. What category of it is in, food, electronics,liqueur?food\n",
            "wine is not in the database. What category of it is in, food, electronics,liqueur?liqueur\n",
            "Mac is not in the database. What category of it is in, food, electronics,liqueur?electronics\n",
            "173790.0\n",
            "banana is not in the database. What category of it is in, food, electronics,liqueur?food\n",
            "mojito is not in the database. What category of it is in, food, electronics,liqueur?liqueur\n",
            "iphone-12 is not in the database. What category of it is in, food, electronics,liqueur?electronics\n",
            "93310.0\n",
            "iphone-11 is not in the database. What category of it is in, food, electronics,liqueur?electronics\n",
            "81810.0\n"
          ],
          "name": "stdout"
        }
      ]
    }
  ]
}