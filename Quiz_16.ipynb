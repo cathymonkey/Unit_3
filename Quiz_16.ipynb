{
  "nbformat": 4,
  "nbformat_minor": 0,
  "metadata": {
    "colab": {
      "name": "Quiz_16.ipynb",
      "provenance": [],
      "authorship_tag": "ABX9TyO2Q/0uB6I96jPdR3L9uKuD",
      "include_colab_link": true
    },
    "kernelspec": {
      "name": "python3",
      "display_name": "Python 3"
    }
  },
  "cells": [
    {
      "cell_type": "markdown",
      "metadata": {
        "id": "view-in-github",
        "colab_type": "text"
      },
      "source": [
        "<a href=\"https://colab.research.google.com/github/cathymonkey/Unit_3/blob/main/Quiz_16.ipynb\" target=\"_parent\"><img src=\"https://colab.research.google.com/assets/colab-badge.svg\" alt=\"Open In Colab\"/></a>"
      ]
    },
    {
      "cell_type": "markdown",
      "metadata": {
        "id": "OFH28KbOsMBq"
      },
      "source": [
        "## **Quiz 16**\n",
        "\n",
        "We want to make a row of bricks that is goal meters long. We have a number of small bricks (1 meter each) and big bricks (5 meters each). Return True if it is possible to make the goal by choosing from the given bricks. \n"
      ]
    },
    {
      "cell_type": "code",
      "metadata": {
        "colab": {
          "base_uri": "https://localhost:8080/"
        },
        "id": "QfFJslzcsBJM",
        "outputId": "be883227-e4ae-4b24-d608-7d0e39ad891e"
      },
      "source": [
        "def make_bricks(small,big,goal):\n",
        "    if 0 < (goal//1) <= small:\n",
        "        return True\n",
        "    elif (goal % 5) <= small and 0 < (goal//5) <= big:\n",
        "        return True\n",
        "    else:\n",
        "        return False\n",
        "\n",
        "print(make_bricks(3,1,8))\n",
        "print(make_bricks(3,4,9))\n",
        "print(make_bricks(3,2,10))\n",
        "print(make_bricks(2,5,22))"
      ],
      "execution_count": 1,
      "outputs": [
        {
          "output_type": "stream",
          "text": [
            "True\n",
            "False\n",
            "True\n",
            "True\n"
          ],
          "name": "stdout"
        }
      ]
    }
  ]
}