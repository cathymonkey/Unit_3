{
  "nbformat": 4,
  "nbformat_minor": 0,
  "metadata": {
    "colab": {
      "name": ".ipynb",
      "provenance": [],
      "collapsed_sections": [],
      "authorship_tag": "ABX9TyMZNezsQ5yYs7cKDuu2x62S",
      "include_colab_link": true
    },
    "kernelspec": {
      "name": "python3",
      "display_name": "Python 3"
    }
  },
  "cells": [
    {
      "cell_type": "markdown",
      "metadata": {
        "id": "view-in-github",
        "colab_type": "text"
      },
      "source": [
        "<a href=\"https://colab.research.google.com/github/cathymonkey/Unit_3/blob/main/class_exercise_1.ipynb\" target=\"_parent\"><img src=\"https://colab.research.google.com/assets/colab-badge.svg\" alt=\"Open In Colab\"/></a>"
      ]
    },
    {
      "cell_type": "markdown",
      "metadata": {
        "id": "qqOUExLgNb-E"
      },
      "source": [
        "##**Class exercise**\n",
        "**Context: There is an apple farm selling fuji apples to customers.**"
      ]
    },
    {
      "cell_type": "markdown",
      "metadata": {
        "id": "4M9fBmcVrQiA"
      },
      "source": [
        "###UML Class Diagram\n",
        "![UML Class  Diagram.png](https://github.com/cathymonkey/Unit_3/blob/main/UML%20Class%20%20Diagram.png)\n",
        "\n",
        "###Sequence Diagram\n",
        "![sequence diagram.png](https://github.com/cathymonkey/Unit_3/blob/main/sequence%20diagram.png)"
      ]
    },
    {
      "cell_type": "code",
      "metadata": {
        "id": "DBnp5xiENnEw"
      },
      "source": [
        "class apples:\n",
        "  def __init__(self):\n",
        "    self.owner_name = name\n",
        "    self.phone = 104839532\n",
        "    self.profit = 0\n",
        "    self.quality_level = [1,2,3,4,5]\n",
        "    self.apples_storage = 20\n",
        "    self.apples_price = 150\n",
        "    self.deliver_fee = 50\n",
        "  def get_apple_storage(self):\n",
        "    return self.apples_storage\n",
        "  def get_apple_price(self):\n",
        "    return self.apples_price\n",
        "  def get_deliver_fee(self):\n",
        "    return self.deliver_fee\n",
        "  \n"
      ],
      "execution_count": 5,
      "outputs": []
    },
    {
      "cell_type": "code",
      "metadata": {
        "colab": {
          "base_uri": "https://localhost:8080/"
        },
        "id": "6IAwkK4pqe8V",
        "outputId": "24b523fc-a3a0-432e-8fe0-23e1928dc672"
      },
      "source": [
        "apple1 = apples()\n",
        "print(apple1.get_apple_storage())\n",
        "print(apple1.get_apple_price())\n",
        "print(apple1.get_deliver_fee())\n"
      ],
      "execution_count": 6,
      "outputs": [
        {
          "output_type": "stream",
          "text": [
            "20\n",
            "150\n",
            "50\n"
          ],
          "name": "stdout"
        }
      ]
    }
  ]
}