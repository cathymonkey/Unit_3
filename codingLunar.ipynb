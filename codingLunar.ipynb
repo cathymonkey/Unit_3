{
  "nbformat": 4,
  "nbformat_minor": 0,
  "metadata": {
    "colab": {
      "name": "codingLunar.ipynb",
      "provenance": [],
      "authorship_tag": "ABX9TyN9JwaKiM/EU7hMZaAHli+e",
      "include_colab_link": true
    },
    "kernelspec": {
      "name": "python3",
      "display_name": "Python 3"
    }
  },
  "cells": [
    {
      "cell_type": "markdown",
      "metadata": {
        "id": "view-in-github",
        "colab_type": "text"
      },
      "source": [
        "<a href=\"https://colab.research.google.com/github/cathymonkey/Unit_3/blob/main/codingLunar.ipynb\" target=\"_parent\"><img src=\"https://colab.research.google.com/assets/colab-badge.svg\" alt=\"Open In Colab\"/></a>"
      ]
    },
    {
      "cell_type": "code",
      "metadata": {
        "colab": {
          "base_uri": "https://localhost:8080/"
        },
        "id": "Pk4EDZPwLS0m",
        "outputId": "bed0d6c9-66f0-406c-ad57-4bc0ac156043"
      },
      "source": [
        "### Practice 1\n",
        "num = int(input(\"Input: \"))\n",
        "T = num + num**2 + num**3\n",
        "print(f\"Output: {T}\")"
      ],
      "execution_count": 1,
      "outputs": [
        {
          "output_type": "stream",
          "text": [
            "Input: 7\n",
            "Output: 399\n"
          ],
          "name": "stdout"
        }
      ]
    },
    {
      "cell_type": "code",
      "metadata": {
        "colab": {
          "base_uri": "https://localhost:8080/"
        },
        "id": "aUb09toAVMZY",
        "outputId": "ecdf12a4-3b34-486b-9203-92e480b06c9a"
      },
      "source": [
        "### Practice 2\n",
        "text = str(input(\"Input: \"))\n",
        "sum = 0\n",
        "for i in range(len(text)):\n",
        "    integer = ord(text[i])\n",
        "    sum += integer\n",
        "sum = str(sum*2)\n",
        "cipher = \"\"\n",
        "for n in range(len(sum)):\n",
        "    if int(sum[n]) % 2 != 0:\n",
        "         cipher += \"@\"\n",
        "    else:\n",
        "        cipher += sum[n]\n",
        "\n",
        "print(f\"Output: {cipher} thnx tanaka\")"
      ],
      "execution_count": 2,
      "outputs": [
        {
          "output_type": "stream",
          "text": [
            "Input: 5121321321321321321\n",
            "Output: @@02 thnx tanaka\n"
          ],
          "name": "stdout"
        }
      ]
    },
    {
      "cell_type": "code",
      "metadata": {
        "colab": {
          "base_uri": "https://localhost:8080/"
        },
        "id": "4qW4WzyjVUzE",
        "outputId": "52742ef9-0936-4d8f-b8ff-be6da5e884a4"
      },
      "source": [
        "### Practice 3\n",
        "num = str(input(\"Not whole number: \"))\n",
        "if num[-1] == \"%\":\n",
        "    num = num.split(\"%\")\n",
        "    num = num[0]\n",
        "\n",
        "elif num[1] == \".\":\n",
        "    num = num[2::]\n",
        "\n",
        "else:\n",
        "    num = num.split(\"/\")\n",
        "    num = num[0]\n",
        "\n",
        "print(f\"0.{num}\")\n",
        "print(f\"{num}/100\")\n",
        "print(f\"{num}%\")\n"
      ],
      "execution_count": 3,
      "outputs": [
        {
          "output_type": "stream",
          "text": [
            "Not whole number: 25%\n",
            "0.25\n",
            "25/100\n",
            "25%\n"
          ],
          "name": "stdout"
        }
      ]
    }
  ]
}