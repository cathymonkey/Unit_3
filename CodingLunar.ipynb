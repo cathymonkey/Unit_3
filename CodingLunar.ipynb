{
  "nbformat": 4,
  "nbformat_minor": 0,
  "metadata": {
    "colab": {
      "name": "CodingLunar.ipynb",
      "provenance": [],
      "authorship_tag": "ABX9TyNjMgd+4Vj+Moc7iaVDZ0/4",
      "include_colab_link": true
    },
    "kernelspec": {
      "name": "python3",
      "display_name": "Python 3"
    }
  },
  "cells": [
    {
      "cell_type": "markdown",
      "metadata": {
        "id": "view-in-github",
        "colab_type": "text"
      },
      "source": [
        "<a href=\"https://colab.research.google.com/github/cathymonkey/Unit_3/blob/main/CodingLunar.ipynb\" target=\"_parent\"><img src=\"https://colab.research.google.com/assets/colab-badge.svg\" alt=\"Open In Colab\"/></a>"
      ]
    },
    {
      "cell_type": "markdown",
      "metadata": {
        "id": "2vFY5tep_Hsj"
      },
      "source": [
        "**1. In a town there are X men, each man has X wives and each wife has X kids, you should print the total T number of people in this town.**\n",
        "\n",
        "  Example\n",
        "\n",
        "  Input\n",
        "\n",
        "  7\n",
        "\n",
        "  Output\n",
        "\n",
        "  399\n"
      ]
    },
    {
      "cell_type": "code",
      "metadata": {
        "colab": {
          "base_uri": "https://localhost:8080/"
        },
        "id": "Pk4EDZPwLS0m",
        "outputId": "bed0d6c9-66f0-406c-ad57-4bc0ac156043"
      },
      "source": [
        "### Practice 1\n",
        "num = int(input(\"Input: \"))\n",
        "T = num + num**2 + num**3\n",
        "print(f\"Output: {T}\")"
      ],
      "execution_count": null,
      "outputs": [
        {
          "output_type": "stream",
          "text": [
            "Input: 7\n",
            "Output: 399\n"
          ],
          "name": "stdout"
        }
      ]
    },
    {
      "cell_type": "markdown",
      "metadata": {
        "id": "3zaHKK_M_SS_"
      },
      "source": [
        "**2. For decode it follow rules:**\n",
        "\n",
        "  1) Convert each characters to integer\n",
        "\n",
        "  2) Make the sum of each characters\n",
        "\n",
        "  3) Multiply it by 2\n",
        "\n",
        "  4) Replace all odd numbers by \"@\"\n",
        "\n",
        "  5) Add \" thnx tanaka\"\n",
        "\n",
        "  Example\n",
        "\n",
        "  Input\n",
        "\n",
        "  5121321321321321321\n",
        "\n",
        "  Output\n",
        "\n",
        "  @8 thnx tanaka"
      ]
    },
    {
      "cell_type": "code",
      "metadata": {
        "colab": {
          "base_uri": "https://localhost:8080/"
        },
        "id": "aUb09toAVMZY",
        "outputId": "6d8a2b90-909a-45e6-f10b-b5770ffbf7fc"
      },
      "source": [
        "### Practice 2\n",
        "text = str(input(\"Input: \"))\n",
        "sum = 0\n",
        "for i in range(len(text)):\n",
        "    integer = int(text[i])\n",
        "    sum += integer\n",
        "sum = str(sum*2)\n",
        "cipher = \"\"\n",
        "for n in range(len(sum)):\n",
        "    if int(sum[n]) % 2 != 0:\n",
        "         cipher += \"@\"\n",
        "    else:\n",
        "        cipher += sum[n]\n",
        "\n",
        "print(f\"Output: {cipher} thnx tanaka\")"
      ],
      "execution_count": 4,
      "outputs": [
        {
          "output_type": "stream",
          "text": [
            "Input: 5121321321321321321\n",
            "Output: @8 thnx tanaka\n"
          ],
          "name": "stdout"
        }
      ]
    },
    {
      "cell_type": "markdown",
      "metadata": {
        "id": "wSomnq_5_koO"
      },
      "source": [
        "**3.A number that is not a whole number can be either a decimal, fraction, or percentage. A decimal is a string that has a '.', a fraction has a '/', and a percentage ends with a '%'. Output all three ways to show the number not_whole.**\n",
        "\n",
        "The order should be decimal, fraction, and then percentage.\n",
        "\n",
        "The fraction is not simplified fraction (it's denominator is 100). The decimal for an integer should be written with exactly one 0 after the decimal point.\n",
        "\n",
        "Example:\n",
        "\n",
        "If not_whole is 25%, you know that it is a percentage and you should output:\n",
        "\n",
        "0.25\n",
        "\n",
        "25/100\n",
        "\n",
        "25%\n"
      ]
    },
    {
      "cell_type": "code",
      "metadata": {
        "colab": {
          "base_uri": "https://localhost:8080/"
        },
        "id": "4qW4WzyjVUzE",
        "outputId": "52742ef9-0936-4d8f-b8ff-be6da5e884a4"
      },
      "source": [
        "### Practice 3\n",
        "num = str(input(\"Not whole number: \"))\n",
        "if num[-1] == \"%\":\n",
        "    num = num.split(\"%\")\n",
        "    num = num[0]\n",
        "\n",
        "elif num[1] == \".\":\n",
        "    num = num[2::]\n",
        "\n",
        "else:\n",
        "    num = num.split(\"/\")\n",
        "    num = num[0]\n",
        "\n",
        "print(f\"0.{num}\")\n",
        "print(f\"{num}/100\")\n",
        "print(f\"{num}%\")\n"
      ],
      "execution_count": null,
      "outputs": [
        {
          "output_type": "stream",
          "text": [
            "Not whole number: 25%\n",
            "0.25\n",
            "25/100\n",
            "25%\n"
          ],
          "name": "stdout"
        }
      ]
    }
  ]
}